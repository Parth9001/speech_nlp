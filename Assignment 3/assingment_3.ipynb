{
 "cells": [
  {
   "cell_type": "code",
   "execution_count": 20,
   "metadata": {},
   "outputs": [],
   "source": [
    "import numpy as np\n",
    "import pandas as pd\n",
    "from sklearn.svm import SVC\n",
    "from sklearn.preprocessing import StandardScaler\n",
    "from sklearn.metrics import classification_report, confusion_matrix, precision_score, recall_score, f1_score, accuracy_score, fbeta_score\n",
    "from nltk.tokenize import word_tokenize\n",
    "from nltk.corpus import stopwords\n",
    "from tqdm import tqdm\n",
    "from datasets import load_dataset\n",
    "import random\n",
    "import string\n",
    "import matplotlib.pyplot as plt\n",
    "import seaborn as sns\n",
    "import gradio as gr"
   ]
  },
  {
   "cell_type": "code",
   "execution_count": 21,
   "metadata": {},
   "outputs": [
    {
     "name": "stderr",
     "output_type": "stream",
     "text": [
      "[nltk_data] Downloading package stopwords to\n",
      "[nltk_data]     /Users/parthbatwara/nltk_data...\n",
      "[nltk_data]   Package stopwords is already up-to-date!\n"
     ]
    },
    {
     "data": {
      "text/plain": [
       "True"
      ]
     },
     "execution_count": 21,
     "metadata": {},
     "output_type": "execute_result"
    }
   ],
   "source": [
    "import nltk\n",
    "nltk.download('stopwords')\n"
   ]
  },
  {
   "cell_type": "code",
   "execution_count": 22,
   "metadata": {},
   "outputs": [],
   "source": [
    "# Constants and Setup\n",
    "SEED = 0\n",
    "NUM_FEATURES = 6  # Number of features per word\n",
    "STOP_WORDS = set(stopwords.words(\"english\"))\n",
    "PUNCTUATION = set(string.punctuation)"
   ]
  },
  {
   "cell_type": "code",
   "execution_count": 23,
   "metadata": {},
   "outputs": [],
   "source": [
    "# Custom Feature Extraction Function\n",
    "def extract_features(word, position_ratio):\n",
    "    \"\"\"Generate feature vector for each word based on custom characteristics.\"\"\"\n",
    "    features = np.zeros(NUM_FEATURES, dtype=np.float32)\n",
    "\n",
    "    features[0] = 1 if word[0].isupper() else 0  # Is capitalized\n",
    "    features[1] = 1 if word.isupper() else 0  # All uppercase\n",
    "    features[2] = len(word)  # Length of word\n",
    "    features[3] = 1 if word.lower() in STOP_WORDS else 0  # Is stopword\n",
    "    features[4] = 1 if word in PUNCTUATION else 0  # Is punctuation\n",
    "    features[5] = position_ratio  # Relative position in sentence\n",
    "\n",
    "    return features"
   ]
  },
  {
   "cell_type": "code",
   "execution_count": 24,
   "metadata": {},
   "outputs": [],
   "source": [
    "# Custom Feature Extraction Function\n",
    "def extract_features(word, position_ratio):\n",
    "    \"\"\"Generate feature vector for each word based on custom characteristics.\"\"\"\n",
    "    features = np.zeros(NUM_FEATURES, dtype=np.float32)\n",
    "\n",
    "    features[0] = 1 if word[0].isupper() else 0  # Is capitalized\n",
    "    features[1] = 1 if word.isupper() else 0  # All uppercase\n",
    "    features[2] = len(word)  # Length of word\n",
    "    features[3] = 1 if word.lower() in STOP_WORDS else 0  # Is stopword\n",
    "    features[4] = 1 if word in PUNCTUATION else 0  # Is punctuation\n",
    "    features[5] = position_ratio  # Relative position in sentence\n",
    "\n",
    "    return features\n",
    "\n",
    "# Data Preparation Function\n",
    "def process_data(data_split):\n",
    "    \"\"\"Process data split into feature vectors and labels.\"\"\"\n",
    "    words, feature_matrix, labels = [], [], []\n",
    "\n",
    "    for entry in tqdm(data_split):\n",
    "        tokens = entry[\"tokens\"]\n",
    "        ner_labels = entry[\"ner_tags\"]\n",
    "        num_tokens = len(tokens)\n",
    "\n",
    "        for idx, token in enumerate(tokens):\n",
    "            rel_position = idx / num_tokens  # Position scaling\n",
    "            feature_vec = extract_features(token, rel_position)\n",
    "\n",
    "            # Binary label: 1 for entity, 0 for non-entity\n",
    "            label = 1 if ner_labels[idx] > 0 else 0\n",
    "\n",
    "            feature_matrix.append(feature_vec)\n",
    "            labels.append(label)\n",
    "            words.append(token)\n",
    "\n",
    "    return np.array(words), np.array(feature_matrix, dtype=np.float32), np.array(labels, dtype=np.int32)"
   ]
  },
  {
   "cell_type": "code",
   "execution_count": 25,
   "metadata": {},
   "outputs": [
    {
     "name": "stderr",
     "output_type": "stream",
     "text": [
      "100%|██████████| 14041/14041 [00:00<00:00, 21236.95it/s]\n",
      "100%|██████████| 3250/3250 [00:00<00:00, 21601.14it/s]\n",
      "100%|██████████| 3453/3453 [00:00<00:00, 23121.27it/s]\n"
     ]
    }
   ],
   "source": [
    "# Load and Prepare Dataset\n",
    "dataset = load_dataset(\"conll2003\", trust_remote_code=True)\n",
    "train_data = dataset[\"train\"]\n",
    "validation_data = dataset[\"validation\"]\n",
    "test_data = dataset[\"test\"]\n",
    "\n",
    "train_words, X_train, y_train = process_data(train_data)\n",
    "val_words, X_val, y_val = process_data(validation_data)\n",
    "test_words, X_test, y_test = process_data(test_data)"
   ]
  },
  {
   "cell_type": "code",
   "execution_count": 26,
   "metadata": {},
   "outputs": [
    {
     "name": "stdout",
     "output_type": "stream",
     "text": [
      "Train feature shape: (203621, 6)\n",
      "Validation feature shape: (51362, 6)\n",
      "Test feature shape: (46435, 6)\n",
      "Example Named Entities:\n",
      "OPEN\n",
      "Colin\n",
      "Reynard\n",
      "Gianluigi\n",
      "Iran\n",
      "Barvikha\n",
      "Gough\n",
      "Telekom\n",
      "Algeria\n",
      "Mexican\n"
     ]
    }
   ],
   "source": [
    "# Display shapes for verification\n",
    "print(\"Train feature shape:\", X_train.shape)\n",
    "print(\"Validation feature shape:\", X_val.shape)\n",
    "print(\"Test feature shape:\", X_test.shape)\n",
    "\n",
    "# Display example entities\n",
    "sample_entities = val_words[y_val == 1]\n",
    "print(\"Example Named Entities:\")\n",
    "for word in np.random.choice(sample_entities, size=10):\n",
    "    print(word)"
   ]
  },
  {
   "cell_type": "code",
   "execution_count": 27,
   "metadata": {},
   "outputs": [],
   "source": [
    "# Scaling Features for SVM\n",
    "scaler = StandardScaler()\n",
    "X_train = scaler.fit_transform(X_train)  # Fit and transform on training data\n",
    "X_val = scaler.transform(X_val)  # Use same scale for validation and test\n",
    "X_test = scaler.transform(X_test)"
   ]
  },
  {
   "cell_type": "code",
   "execution_count": 28,
   "metadata": {},
   "outputs": [
    {
     "data": {
      "text/html": [
       "<style>#sk-container-id-2 {color: black;}#sk-container-id-2 pre{padding: 0;}#sk-container-id-2 div.sk-toggleable {background-color: white;}#sk-container-id-2 label.sk-toggleable__label {cursor: pointer;display: block;width: 100%;margin-bottom: 0;padding: 0.3em;box-sizing: border-box;text-align: center;}#sk-container-id-2 label.sk-toggleable__label-arrow:before {content: \"▸\";float: left;margin-right: 0.25em;color: #696969;}#sk-container-id-2 label.sk-toggleable__label-arrow:hover:before {color: black;}#sk-container-id-2 div.sk-estimator:hover label.sk-toggleable__label-arrow:before {color: black;}#sk-container-id-2 div.sk-toggleable__content {max-height: 0;max-width: 0;overflow: hidden;text-align: left;background-color: #f0f8ff;}#sk-container-id-2 div.sk-toggleable__content pre {margin: 0.2em;color: black;border-radius: 0.25em;background-color: #f0f8ff;}#sk-container-id-2 input.sk-toggleable__control:checked~div.sk-toggleable__content {max-height: 200px;max-width: 100%;overflow: auto;}#sk-container-id-2 input.sk-toggleable__control:checked~label.sk-toggleable__label-arrow:before {content: \"▾\";}#sk-container-id-2 div.sk-estimator input.sk-toggleable__control:checked~label.sk-toggleable__label {background-color: #d4ebff;}#sk-container-id-2 div.sk-label input.sk-toggleable__control:checked~label.sk-toggleable__label {background-color: #d4ebff;}#sk-container-id-2 input.sk-hidden--visually {border: 0;clip: rect(1px 1px 1px 1px);clip: rect(1px, 1px, 1px, 1px);height: 1px;margin: -1px;overflow: hidden;padding: 0;position: absolute;width: 1px;}#sk-container-id-2 div.sk-estimator {font-family: monospace;background-color: #f0f8ff;border: 1px dotted black;border-radius: 0.25em;box-sizing: border-box;margin-bottom: 0.5em;}#sk-container-id-2 div.sk-estimator:hover {background-color: #d4ebff;}#sk-container-id-2 div.sk-parallel-item::after {content: \"\";width: 100%;border-bottom: 1px solid gray;flex-grow: 1;}#sk-container-id-2 div.sk-label:hover label.sk-toggleable__label {background-color: #d4ebff;}#sk-container-id-2 div.sk-serial::before {content: \"\";position: absolute;border-left: 1px solid gray;box-sizing: border-box;top: 0;bottom: 0;left: 50%;z-index: 0;}#sk-container-id-2 div.sk-serial {display: flex;flex-direction: column;align-items: center;background-color: white;padding-right: 0.2em;padding-left: 0.2em;position: relative;}#sk-container-id-2 div.sk-item {position: relative;z-index: 1;}#sk-container-id-2 div.sk-parallel {display: flex;align-items: stretch;justify-content: center;background-color: white;position: relative;}#sk-container-id-2 div.sk-item::before, #sk-container-id-2 div.sk-parallel-item::before {content: \"\";position: absolute;border-left: 1px solid gray;box-sizing: border-box;top: 0;bottom: 0;left: 50%;z-index: -1;}#sk-container-id-2 div.sk-parallel-item {display: flex;flex-direction: column;z-index: 1;position: relative;background-color: white;}#sk-container-id-2 div.sk-parallel-item:first-child::after {align-self: flex-end;width: 50%;}#sk-container-id-2 div.sk-parallel-item:last-child::after {align-self: flex-start;width: 50%;}#sk-container-id-2 div.sk-parallel-item:only-child::after {width: 0;}#sk-container-id-2 div.sk-dashed-wrapped {border: 1px dashed gray;margin: 0 0.4em 0.5em 0.4em;box-sizing: border-box;padding-bottom: 0.4em;background-color: white;}#sk-container-id-2 div.sk-label label {font-family: monospace;font-weight: bold;display: inline-block;line-height: 1.2em;}#sk-container-id-2 div.sk-label-container {text-align: center;}#sk-container-id-2 div.sk-container {/* jupyter's `normalize.less` sets `[hidden] { display: none; }` but bootstrap.min.css set `[hidden] { display: none !important; }` so we also need the `!important` here to be able to override the default hidden behavior on the sphinx rendered scikit-learn.org. See: https://github.com/scikit-learn/scikit-learn/issues/21755 */display: inline-block !important;position: relative;}#sk-container-id-2 div.sk-text-repr-fallback {display: none;}</style><div id=\"sk-container-id-2\" class=\"sk-top-container\"><div class=\"sk-text-repr-fallback\"><pre>SVC(class_weight=&#x27;balanced&#x27;, kernel=&#x27;linear&#x27;, random_state=0)</pre><b>In a Jupyter environment, please rerun this cell to show the HTML representation or trust the notebook. <br />On GitHub, the HTML representation is unable to render, please try loading this page with nbviewer.org.</b></div><div class=\"sk-container\" hidden><div class=\"sk-item\"><div class=\"sk-estimator sk-toggleable\"><input class=\"sk-toggleable__control sk-hidden--visually\" id=\"sk-estimator-id-2\" type=\"checkbox\" checked><label for=\"sk-estimator-id-2\" class=\"sk-toggleable__label sk-toggleable__label-arrow\">SVC</label><div class=\"sk-toggleable__content\"><pre>SVC(class_weight=&#x27;balanced&#x27;, kernel=&#x27;linear&#x27;, random_state=0)</pre></div></div></div></div></div>"
      ],
      "text/plain": [
       "SVC(class_weight='balanced', kernel='linear', random_state=0)"
      ]
     },
     "execution_count": 28,
     "metadata": {},
     "output_type": "execute_result"
    }
   ],
   "source": [
    "# SVM Classifier Setup and Training\n",
    "svm_classifier = SVC(C=1.0, kernel=\"linear\", class_weight=\"balanced\", random_state=SEED)\n",
    "svm_classifier.fit(X_train, y_train)"
   ]
  },
  {
   "cell_type": "code",
   "execution_count": 29,
   "metadata": {},
   "outputs": [
    {
     "name": "stdout",
     "output_type": "stream",
     "text": [
      "Validation Set Classification Report:\n",
      "              precision    recall  f1-score   support\n",
      "\n",
      "           0       0.99      0.96      0.98     42759\n",
      "           1       0.82      0.97      0.89      8603\n",
      "\n",
      "    accuracy                           0.96     51362\n",
      "   macro avg       0.91      0.96      0.93     51362\n",
      "weighted avg       0.96      0.96      0.96     51362\n",
      "\n"
     ]
    }
   ],
   "source": [
    "# Model Evaluation on Validation Set\n",
    "y_pred_val = svm_classifier.predict(X_val)\n",
    "print(\"Validation Set Classification Report:\")\n",
    "print(classification_report(y_val, y_pred_val))\n"
   ]
  },
  {
   "cell_type": "code",
   "execution_count": 30,
   "metadata": {},
   "outputs": [
    {
     "data": {
      "image/png": "[encoded data removed]",
      "text/plain": [
       "<Figure size 1000x800 with 1 Axes>"
      ]
     },
     "metadata": {},
     "output_type": "display_data"
    }
   ],
   "source": [
    "# Generate the confusion matrix\n",
    "conf_matrix = confusion_matrix(y_val, y_pred_val)\n",
    "\n",
    "# Plot the confusion matrix using seaborn\n",
    "plt.figure(figsize=(10, 8))  # Set the figure size\n",
    "sns.heatmap(conf_matrix, annot=True, fmt=\"d\", cmap=\"Blues\", cbar=False, linewidths=1, linecolor='black')\n",
    "\n",
    "# Add labels and title for clarity\n",
    "plt.xlabel(\"Predicted Label\", fontsize=14)\n",
    "plt.ylabel(\"True Label\", fontsize=14)\n",
    "plt.title(\"Confusion Matrix - Validation Set\", fontsize=16)\n",
    "\n",
    "# Show the plot\n",
    "plt.show()\n"
   ]
  },
  {
   "cell_type": "code",
   "execution_count": 31,
   "metadata": {},
   "outputs": [
    {
     "name": "stdout",
     "output_type": "stream",
     "text": [
      "Macro Averaging:\n",
      "Accuracy: 0.9593\n",
      "Precision: 0.9069\n",
      "Recall: 0.9633\n",
      "F1 Score: 0.9318\n",
      "F0.5 Score: 0.9162\n",
      "F2 Score: 0.9499\n"
     ]
    }
   ],
   "source": [
    "# Calculate predictions on the validation set\n",
    "y_pred_val = svm_classifier.predict(X_val)\n",
    "\n",
    "# Calculate macro-averaged metrics\n",
    "accuracy = accuracy_score(y_true=y_val, y_pred=y_pred_val)\n",
    "precision = precision_score(y_true=y_val, y_pred=y_pred_val, average='macro')\n",
    "recall = recall_score(y_true=y_val, y_pred=y_pred_val, average='macro')\n",
    "f1 = f1_score(y_true=y_val, y_pred=y_pred_val, average='macro')\n",
    "\n",
    "# Calculating F0.5 and F2 scores using beta values\n",
    "f0_5 = fbeta_score(y_true=y_val, y_pred=y_pred_val, average='macro', beta=0.5)\n",
    "f2 = fbeta_score(y_true=y_val, y_pred=y_pred_val, average='macro', beta=2.0)\n",
    "\n",
    "# Print the results\n",
    "print(\"Macro Averaging:\")\n",
    "print(f\"Accuracy: {accuracy:.4f}\")\n",
    "print(f\"Precision: {precision:.4f}\")\n",
    "print(f\"Recall: {recall:.4f}\")\n",
    "print(f\"F1 Score: {f1:.4f}\")\n",
    "print(f\"F0.5 Score: {f0_5:.4f}\")\n",
    "print(f\"F2 Score: {f2:.4f}\")\n"
   ]
  },
  {
   "cell_type": "code",
   "execution_count": 32,
   "metadata": {},
   "outputs": [
    {
     "name": "stdout",
     "output_type": "stream",
     "text": [
      "\n",
      "Sample Sentence Classification:\n",
      "NASA_1 announced_0 a_0 new_0 mission_0 to_0 Mars_1 ._0\n",
      "Elon_1 Musk_1 ,_0 the_0 CEO_1 of_0 Tesla_1 ,_0 is_0 an_0 influential_0 figure_0 ._0\n",
      "Google_1 's_0 latest_0 AI_1 advancements_0 are_0 groundbreaking_0 ._0\n",
      "COVID-19_1 vaccination_0 is_0 vital_0 for_0 public_0 health_0 ._0\n"
     ]
    }
   ],
   "source": [
    "# Predict Named Entities for Sample Sentences\n",
    "sample_sentences = [\n",
    "    \"NASA announced a new mission to Mars.\",\n",
    "    \"Elon Musk, the CEO of Tesla, is an influential figure.\",\n",
    "    \"Google's latest AI advancements are groundbreaking.\",\n",
    "    \"COVID-19 vaccination is vital for public health.\"\n",
    "]\n",
    "\n",
    "def classify_sentence(model, scaler, text):\n",
    "    tokens = word_tokenize(text)\n",
    "    feature_vectors = []\n",
    "\n",
    "    for idx, token in enumerate(tokens):\n",
    "        pos_ratio = idx / len(tokens)\n",
    "        feature_vector = extract_features(token, pos_ratio)\n",
    "        feature_vectors.append(feature_vector)\n",
    "\n",
    "    feature_vectors = scaler.transform(feature_vectors)\n",
    "    predictions = model.predict(feature_vectors)\n",
    "\n",
    "    return [(token, int(label)) for token, label in zip(tokens, predictions)]\n",
    "\n",
    "# Annotate and Display Results for Sample Sentences\n",
    "print(\"\\nSample Sentence Classification:\")\n",
    "for sentence in sample_sentences:\n",
    "    annotated = classify_sentence(svm_classifier, scaler, sentence)\n",
    "    annotated_text = \" \".join(f\"{word}_{label}\" for word, label in annotated)\n",
    "    print(annotated_text)"
   ]
  },
  {
   "cell_type": "code",
   "execution_count": 33,
   "metadata": {},
   "outputs": [
    {
     "name": "stdout",
     "output_type": "stream",
     "text": [
      "Running on local URL:  http://127.0.0.1:7861\n",
      "\n",
      "To create a public link, set `share=True` in `launch()`.\n"
     ]
    },
    {
     "data": {
      "text/html": [
       "<div><iframe src=\"http://127.0.0.1:7861/\" width=\"100%\" height=\"500\" allow=\"autoplay; camera; microphone; clipboard-read; clipboard-write;\" frameborder=\"0\" allowfullscreen></iframe></div>"
      ],
      "text/plain": [
       "<IPython.core.display.HTML object>"
      ]
     },
     "metadata": {},
     "output_type": "display_data"
    },
    {
     "data": {
      "text/plain": []
     },
     "execution_count": 33,
     "metadata": {},
     "output_type": "execute_result"
    }
   ],
   "source": [
    "# Function to classify a sentence and return annotated results\n",
    "def classify_sentence(input_sentence):\n",
    "    tokens = word_tokenize(input_sentence)\n",
    "    feature_vectors = []\n",
    "\n",
    "    for idx, token in enumerate(tokens):\n",
    "        pos_ratio = idx / len(tokens)\n",
    "        feature_vector = extract_features(token, pos_ratio)\n",
    "        feature_vectors.append(feature_vector)\n",
    "\n",
    "    feature_vectors = scaler.transform(feature_vectors)\n",
    "    predictions = svm_classifier.predict(feature_vectors)\n",
    "\n",
    "    annotated_sentence = \" \".join(f\"{word}_{int(label)}\" for word, label in zip(tokens, predictions))\n",
    "    return annotated_sentence\n",
    "\n",
    "# Create a Gradio interface using the updated component calls\n",
    "iface = gr.Interface(\n",
    "    fn=classify_sentence,\n",
    "    inputs=gr.Textbox(lines=2, placeholder=\"Enter a sentence...\"),\n",
    "    outputs=gr.Textbox(),\n",
    "    title=\"Named Entity Recognition (NER)\",\n",
    "    description=\"Enter a sentence to classify tokens as named entities (1) or non-entities (0).\"\n",
    ")\n",
    "\n",
    "# Launch the Gradio app\n",
    "iface.launch()\n"
   ]
  }
 ],
 "metadata": {
  "kernelspec": {
   "display_name": "Python 3",
   "language": "python",
   "name": "python3"
  },
  "language_info": {
   "codemirror_mode": {
    "name": "ipython",
    "version": 3
   },
   "file_extension": ".py",
   "mimetype": "text/x-python",
   "name": "python",
   "nbconvert_exporter": "python",
   "pygments_lexer": "ipython3",
   "version": "3.10.14"
  },
  "vscode": {
   "interpreter": {
    "hash": "bd385fe162c5ca0c84973b7dd5c518456272446b2b64e67c2a69f949ca7a1754"
   }
  }
 },
 "nbformat": 4,
 "nbformat_minor": 2
}
